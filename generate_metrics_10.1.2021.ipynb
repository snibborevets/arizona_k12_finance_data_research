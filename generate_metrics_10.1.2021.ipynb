{
 "cells": [
  {
   "cell_type": "markdown",
   "metadata": {},
   "source": [
    "## Import Libraries"
   ]
  },
  {
   "cell_type": "code",
   "execution_count": 1,
   "metadata": {
    "code_folding": [
     0
    ]
   },
   "outputs": [],
   "source": [
    "# import standard libraries for project\n",
    "import numpy as np\n",
    "import pandas as pd \n",
    "from io import StringIO\n",
    "from sklearn import preprocessing\n",
    "from pandas import ExcelWriter\n",
    "from datetime import datetime\n",
    " \n",
    "from os import listdir\n",
    "from os.path import isfile, join\n",
    "\n",
    "import openpyxl\n",
    "\n",
    "import math\n",
    "\n",
    "import matplotlib.pyplot as plt\n",
    "\n",
    "from sklearn.linear_model import LinearRegression\n",
    "\n",
    "import scipy\n",
    "\n",
    "# show all rows and cols when printing output to terminal\n",
    "pd.set_option('display.max_rows', 750, 'display.max_columns', 500)  "
   ]
  },
  {
   "cell_type": "code",
   "execution_count": null,
   "metadata": {},
   "outputs": [],
   "source": []
  },
  {
   "cell_type": "code",
   "execution_count": null,
   "metadata": {},
   "outputs": [],
   "source": []
  },
  {
   "cell_type": "markdown",
   "metadata": {},
   "source": [
    "## Import Raw Data"
   ]
  },
  {
   "cell_type": "code",
   "execution_count": 2,
   "metadata": {},
   "outputs": [],
   "source": [
    "# import raw data\n",
    "import_path = './jupyter_data/'\n",
    "all_data_raw = pd.read_csv(import_path +'joined_data.csv')"
   ]
  },
  {
   "cell_type": "code",
   "execution_count": null,
   "metadata": {},
   "outputs": [],
   "source": []
  },
  {
   "cell_type": "markdown",
   "metadata": {},
   "source": [
    "## Get Raw Expense Data from Joined DataFrame"
   ]
  },
  {
   "cell_type": "markdown",
   "metadata": {},
   "source": [
    "#### Total Revenue and Expenses"
   ]
  },
  {
   "cell_type": "code",
   "execution_count": 3,
   "metadata": {},
   "outputs": [],
   "source": [
    "# get \"total revenue\" by adding up subcategories for districts, just use total column for charters\n",
    "    # \"total\" column is blank for districts, sub-categories are blank for charters. adding \n",
    "    # all revenue fields together doesn't result in double counting\n",
    "    # exclude food-service-related revenue\n",
    "\n",
    "m_and_o_rev = all_data_raw.loc[:,'Maintenance_and_Operation_Fund_Revenue'].apply(pd.to_numeric, errors='coerce').fillna(0).reset_index(drop=True)\n",
    "classroom_site_rev = all_data_raw.loc[:,'Classroom_Site_Project_Revenue'].apply(pd.to_numeric, errors='coerce').fillna(0).reset_index(drop=True)\n",
    "instructional_improvement_rev = all_data_raw.loc[:,'Instructional_Improvement_Project_Revenue'].apply(pd.to_numeric, errors='coerce').fillna(0).reset_index(drop=True)\n",
    "ell_rev = all_data_raw.loc[:,'English_Language_Learner_Project_Revenue'].apply(pd.to_numeric, errors='coerce').fillna(0).reset_index(drop=True)\n",
    "compensatory_instruction_rev = all_data_raw.loc[:,'Compensatory_Instruction_Project_Revenue'].apply(pd.to_numeric, errors='coerce').fillna(0).reset_index(drop=True)\n",
    "federal_and_state_proj_rev = all_data_raw.loc[:,'Federal_and_State_projects_Revenue'].apply(pd.to_numeric, errors='coerce').fillna(0).reset_index(drop=True)\n",
    "total_rev_all_sources_charter = all_data_raw.loc[:,'Total_Revenue_All_Sources'].apply(pd.to_numeric, errors='coerce').fillna(0).reset_index(drop=True)\n",
    "\n",
    "total_revenue = (m_and_o_rev \n",
    "                  + classroom_site_rev \n",
    "                  + instructional_improvement_rev \n",
    "                  + ell_rev \n",
    "                  + compensatory_instruction_rev \n",
    "                  + federal_and_state_proj_rev\n",
    "                  + total_rev_all_sources_charter)"
   ]
  },
  {
   "cell_type": "code",
   "execution_count": 4,
   "metadata": {},
   "outputs": [],
   "source": [
    "# get \"total expenses\" by adding up subcategories (necessary to align district and charter accounting)\n",
    "    # exclude Food Expenses - very few charters (if any) provide food\n",
    "\n",
    "m_and_o_exp = all_data_raw.loc[:,'Maintenance_and_Operation_Fund_Expenses'].apply(pd.to_numeric, errors='coerce').fillna(0).reset_index(drop=True)\n",
    "classroom_site_exp = all_data_raw.loc[:,'Classroom_Site_Project_Expenses'].apply(pd.to_numeric, errors='coerce').fillna(0).reset_index(drop=True)\n",
    "instructional_improvement_exp = all_data_raw.loc[:,'Instructional_Improvement_Project_Expenses'].apply(pd.to_numeric, errors='coerce').fillna(0).reset_index(drop=True)\n",
    "ell_exp = all_data_raw.loc[:,'English_Language_Learner_Project_Expenses'].apply(pd.to_numeric, errors='coerce').fillna(0).reset_index(drop=True)\n",
    "compensatory_instruction_exp = all_data_raw.loc[:,'Compensatory_Instruction_Project_Expenses'].apply(pd.to_numeric, errors='coerce').fillna(0).reset_index(drop=True)\n",
    "federal_and_state_proj_exp = all_data_raw.loc[:,'Federal_and_State_projects_Expenses'].apply(pd.to_numeric, errors='coerce').fillna(0).reset_index(drop=True)\n",
    "\n",
    "# NOTE: excludes \"Student Success\" expenses, which are in 2015 only\n",
    "total_expenses = (m_and_o_exp \n",
    "                  + classroom_site_exp \n",
    "                  + instructional_improvement_exp\n",
    "                  + ell_exp\n",
    "                  + compensatory_instruction_exp \n",
    "                  + federal_and_state_proj_exp)"
   ]
  },
  {
   "cell_type": "code",
   "execution_count": null,
   "metadata": {},
   "outputs": [],
   "source": []
  },
  {
   "cell_type": "markdown",
   "metadata": {},
   "source": [
    "#### Expense Data by FUNCTION CODE"
   ]
  },
  {
   "cell_type": "code",
   "execution_count": 5,
   "metadata": {},
   "outputs": [],
   "source": [
    "# salary instructional expenses (acct 1000 - includes 6100, 6200, 6300, 6400, 6500, 6800)\n",
    "\n",
    "instruction_1000_regular = all_data_raw.loc[:,'Total_actual_100_Regular_education_1000_Instruction'].apply(pd.to_numeric, errors='coerce').fillna(0).reset_index(drop=True)\n",
    "instruction_1000_sped = all_data_raw.loc[:,'Total_actual_200_Special_education_1000_Instruction'].apply(pd.to_numeric, errors='coerce').fillna(0).reset_index(drop=True)\n",
    "\n",
    "instruction_1000_reg_sped = instruction_1000_regular + instruction_1000_sped"
   ]
  },
  {
   "cell_type": "code",
   "execution_count": 6,
   "metadata": {},
   "outputs": [],
   "source": [
    "# support services for students (acct 2100)\n",
    "\n",
    "support_serv_students_2100_regular = all_data_raw.loc[:,'Total_actual_100_Regular_education_2000_Support_services_2100_Students'].apply(pd.to_numeric, errors='coerce').fillna(0).reset_index(drop=True)\n",
    "support_serv_students_2100_sped = all_data_raw.loc[:,'Total_actual_200_Special_education_2000_Support_services_2100_Students'].apply(pd.to_numeric, errors='coerce').fillna(0).reset_index(drop=True)\n",
    "\n",
    "support_serv_students_2100_reg_sped = support_serv_students_2100_regular + support_serv_students_2100_sped"
   ]
  },
  {
   "cell_type": "code",
   "execution_count": 7,
   "metadata": {},
   "outputs": [],
   "source": [
    "# support services for instruction (acct 2200)\n",
    "\n",
    "support_serv_instruction_2200_regular = all_data_raw.loc[:,'Total_actual_100_Regular_education_2000_Support_services_2200_Instruction'].apply(pd.to_numeric, errors='coerce').fillna(0).reset_index(drop=True)\n",
    "support_serv_instruction_2200_sped = all_data_raw.loc[:,'Total_actual_200_Special_education_2000_Support_services_2200_Instruction'].apply(pd.to_numeric, errors='coerce').fillna(0).reset_index(drop=True)\n",
    "\n",
    "support_serv_instruction_2200_reg_sped = support_serv_instruction_2200_regular + support_serv_instruction_2200_sped"
   ]
  },
  {
   "cell_type": "code",
   "execution_count": 8,
   "metadata": {},
   "outputs": [],
   "source": [
    "# admin-related expenses (accts 2300, 2400, 2500)\n",
    "\n",
    "support_serv_general_admin_2300_regular = all_data_raw.loc[:,'Total_actual_100_Regular_education_2000_Support_services_2300_General_administration'].apply(pd.to_numeric, errors='coerce').fillna(0).reset_index(drop=True)\n",
    "support_serv_school_admin_2400_regular = all_data_raw.loc[:,'Total_actual_100_Regular_education_2000_Support_services_2400_School_administration'].apply(pd.to_numeric, errors='coerce').fillna(0).reset_index(drop=True)\n",
    "support_serv_central_serv_2500_regular = all_data_raw.loc[:,'Total_actual_100_Regular_education_2000_Support_services_2500_Central_services'].apply(pd.to_numeric, errors='coerce').fillna(0).reset_index(drop=True)\n",
    "support_serv_general_admin_2300_sped = all_data_raw.loc[:,'Total_actual_200_Special_education_2000_Support_services_2300_General_administration'].apply(pd.to_numeric, errors='coerce').fillna(0).reset_index(drop=True)\n",
    "support_serv_school_admin_2400_sped = all_data_raw.loc[:,'Total_actual_200_Special_education_2000_Support_services_2400_School_administration'].apply(pd.to_numeric, errors='coerce').fillna(0).reset_index(drop=True)\n",
    "support_serv_central_serv_2500_sped = all_data_raw.loc[:,'Total_actual_200_Special_education_2000_Support_services_2500_Central_services'].apply(pd.to_numeric, errors='coerce').fillna(0).reset_index(drop=True)\n",
    "\n",
    "support_serv_general_admin_2300_reg_sped = support_serv_general_admin_2300_regular + support_serv_general_admin_2300_sped\n",
    "support_serv_school_admin_2400_reg_sped = support_serv_school_admin_2400_regular + support_serv_school_admin_2400_sped\n",
    "support_serv_central_serv_2500_reg_sped = support_serv_central_serv_2500_regular + support_serv_central_serv_2500_sped\n",
    "\n",
    "admin_expenses_all = (support_serv_general_admin_2300_reg_sped\n",
    "                      + support_serv_school_admin_2400_reg_sped \n",
    "                      + support_serv_central_serv_2500_reg_sped)"
   ]
  },
  {
   "cell_type": "code",
   "execution_count": 9,
   "metadata": {},
   "outputs": [],
   "source": [
    "# operation and maintenance of plant expenses (acct 2600)\n",
    "\n",
    "o_and_m_plant_2600_regular = all_data_raw.loc[:,'Total_actual_100_Regular_education_2000_Support_services_2600_Operation_maintenance_of_plant'].apply(pd.to_numeric, errors='coerce').fillna(0).reset_index(drop=True)\n",
    "o_and_m_plant_2600_sped = all_data_raw.loc[:,'Total_actual_200_Special_education_2000_Support_services_2600_Operation_maintenance_of_plant'].apply(pd.to_numeric, errors='coerce').fillna(0).reset_index(drop=True)\n",
    "\n",
    "o_and_m_plant_2600_reg_sped = o_and_m_plant_2600_regular + o_and_m_plant_2600_sped"
   ]
  },
  {
   "cell_type": "code",
   "execution_count": 10,
   "metadata": {},
   "outputs": [],
   "source": [
    "# total building-related expenses (accts 2600, 3000, 4000)\n",
    "\n",
    "a = all_data_raw.loc[:,'Total_actual_100_Regular_education_2000_Support_services_2600_Operation_maintenance_of_plant']\n",
    "b = all_data_raw.loc[:,'Total_actual_100_Regular_education_3000_Operation_of_noninstructional_services']\n",
    "c = all_data_raw.loc[:,'Total_actual_100_Regular_education_4000_Facilities_acquisition_construction']\n",
    "d = all_data_raw.loc[:,'Total_actual_200_Special_education_2000_Support_services_2600_Operation_maintenance_of_plant']\n",
    "e = all_data_raw.loc[:,'Total_actual_200_Special_education_3000_Operation_of_noninstructional_services']\n",
    "f = all_data_raw.loc[:,'Total_actual_200_Special_education_4000_Facilities_acquisition_construction']\n",
    "\n",
    "building_related_expenses = a + b + c + d + e + f\n",
    "\n"
   ]
  },
  {
   "cell_type": "code",
   "execution_count": 11,
   "metadata": {},
   "outputs": [],
   "source": [
    "# regular education expenses (does not include o&m or facilities-related expenses allocated to sped)\n",
    "\n",
    "regular_exp_all = (instruction_1000_regular\n",
    "                + support_serv_students_2100_regular\n",
    "                + support_serv_instruction_2200_regular\n",
    "                + support_serv_general_admin_2300_regular\n",
    "                + support_serv_school_admin_2400_regular\n",
    "                + support_serv_central_serv_2500_regular)"
   ]
  },
  {
   "cell_type": "code",
   "execution_count": 12,
   "metadata": {},
   "outputs": [],
   "source": [
    "# sped education expenses (does not include o&m or facilities-related expenses allocated to sped)\n",
    "\n",
    "sped_exp_all = (instruction_1000_sped\n",
    "                + support_serv_students_2100_sped\n",
    "                + support_serv_instruction_2200_sped\n",
    "                + support_serv_general_admin_2300_sped \n",
    "                + support_serv_school_admin_2400_sped \n",
    "                + support_serv_central_serv_2500_sped)"
   ]
  },
  {
   "cell_type": "code",
   "execution_count": null,
   "metadata": {},
   "outputs": [],
   "source": []
  },
  {
   "cell_type": "markdown",
   "metadata": {},
   "source": [
    "#### Expense Data by OBJECT CODE"
   ]
  },
  {
   "cell_type": "code",
   "execution_count": 13,
   "metadata": {},
   "outputs": [],
   "source": [
    "# make list of column names for non-inflation expenses\n",
    "\n",
    "# 'Cash' = first col\n",
    "# 'Other_6800_Classroom_Site_Project' = last col\n",
    "\n",
    "start_col = all_data_raw.columns.get_loc('Cash')\n",
    "end_col = all_data_raw.columns.get_loc('Other_6800_Classroom_Site_Project') + 1\n",
    "\n",
    "data_cols = all_data_raw.columns[start_col:end_col]\n",
    "expense_table_nominal = all_data_raw.iloc[:,start_col:end_col]"
   ]
  },
  {
   "cell_type": "code",
   "execution_count": 14,
   "metadata": {},
   "outputs": [],
   "source": [
    "# salaries expenses, account 6100\n",
    "salaries_cols_idx = []\n",
    "salaries_acct_txt = '6100'\n",
    "\n",
    "for i in range(0,len(data_cols)):\n",
    "    if (salaries_acct_txt in data_cols[i]):\n",
    "        salaries_cols_idx.append(i)\n",
    "        \n",
    "salaries_6100_exp = expense_table_nominal.iloc[:,salaries_cols_idx].apply(pd.to_numeric, errors='coerce').fillna(0).reset_index(drop=True).sum(axis=1)"
   ]
  },
  {
   "cell_type": "code",
   "execution_count": 15,
   "metadata": {},
   "outputs": [],
   "source": [
    "# employee benefits expenses, account 6200\n",
    "benefits_cols_idx = []\n",
    "benefits_acct_txt = '6200'\n",
    "\n",
    "for i in range(0,len(data_cols)):\n",
    "    if (benefits_acct_txt in data_cols[i]):\n",
    "        benefits_cols_idx.append(i)\n",
    "        \n",
    "benefits_6200_exp = expense_table_nominal.iloc[:,benefits_cols_idx].apply(pd.to_numeric, errors='coerce').fillna(0).reset_index(drop=True).sum(axis=1)"
   ]
  },
  {
   "cell_type": "code",
   "execution_count": 16,
   "metadata": {},
   "outputs": [],
   "source": [
    "# sum of account 6100 (all salaries) and account 6200 (all benefits)\n",
    "all_salaries_benefits_6100_6200 = salaries_6100_exp + benefits_6200_exp"
   ]
  },
  {
   "cell_type": "code",
   "execution_count": 17,
   "metadata": {},
   "outputs": [],
   "source": [
    "# purchased expenses, account 6300 (6400 and 6500 too)\n",
    "purch_serv_cols_idx = []\n",
    "purch_serv_acct_txt = '6300'\n",
    "\n",
    "for i in range(0,len(data_cols)):\n",
    "    if (purch_serv_acct_txt in data_cols[i]):\n",
    "        purch_serv_cols_idx.append(i)\n",
    "        \n",
    "purch_serv_6300_6400_6500_exp = expense_table_nominal.iloc[:,purch_serv_cols_idx].apply(pd.to_numeric, errors='coerce').fillna(0).reset_index(drop=True).sum(axis=1)"
   ]
  },
  {
   "cell_type": "code",
   "execution_count": 18,
   "metadata": {},
   "outputs": [],
   "source": [
    "# supplies expenses, account 6600\n",
    "supplies_cols_idx = []\n",
    "supplies_acct_txt = '6600'\n",
    "\n",
    "for i in range(0,len(data_cols)):\n",
    "    if (supplies_acct_txt in data_cols[i]):\n",
    "        supplies_cols_idx.append(i)\n",
    "        \n",
    "supplies_6600_exp = expense_table_nominal.iloc[:,supplies_cols_idx].apply(pd.to_numeric, errors='coerce').fillna(0).reset_index(drop=True).sum(axis=1)"
   ]
  },
  {
   "cell_type": "code",
   "execution_count": 19,
   "metadata": {},
   "outputs": [],
   "source": [
    "# other expenses, account 6800\n",
    "other_exp_cols_idx = []\n",
    "other_exp_acct_txt = '6800'\n",
    "\n",
    "for i in range(0,len(data_cols)):\n",
    "    if (other_exp_acct_txt in data_cols[i]):\n",
    "        other_exp_cols_idx.append(i)\n",
    "        \n",
    "other_6800_exp = expense_table_nominal.iloc[:,other_exp_cols_idx].apply(pd.to_numeric, errors='coerce').fillna(0).reset_index(drop=True).sum(axis=1)"
   ]
  },
  {
   "cell_type": "code",
   "execution_count": null,
   "metadata": {},
   "outputs": [],
   "source": []
  },
  {
   "cell_type": "code",
   "execution_count": null,
   "metadata": {},
   "outputs": [],
   "source": []
  },
  {
   "cell_type": "markdown",
   "metadata": {},
   "source": [
    "#### Expense Data by FUNCTION CODE & OBJECT CODE"
   ]
  },
  {
   "cell_type": "code",
   "execution_count": 20,
   "metadata": {},
   "outputs": [],
   "source": [
    "# salary instructional expenses (no benefits) (acct 1000, 6100 ONLY, i.e. salaries only)\n",
    "\n",
    "salary_instruction_1000_regular_6100 = all_data_raw.loc[:,'Salaries_6100_100_Regular_education_1000_Instruction'].apply(pd.to_numeric, errors='coerce').fillna(0).reset_index(drop=True)\n",
    "salary_instruction_1000_sped_6100 = all_data_raw.loc[:,'Salaries_6100_200_Special_education_1000_Instruction'].apply(pd.to_numeric, errors='coerce').fillna(0).reset_index(drop=True)\n",
    " \n",
    "salary_instruction_1000_6100_reg_sped = salary_instruction_1000_regular_6100 + salary_instruction_1000_sped_6100"
   ]
  },
  {
   "cell_type": "code",
   "execution_count": 21,
   "metadata": {},
   "outputs": [],
   "source": [
    "# instruction benefits expenses (acct 1000, 6200 ONLY, i.e. benefits only)\n",
    "\n",
    "benefits_instruction_1000_regular_6200 = all_data_raw.loc[:,'Employee_benefits_6200_100_Regular_education_1000_Instruction'].apply(pd.to_numeric, errors='coerce').fillna(0).reset_index(drop=True)\n",
    "benefits_instruction_1000_sped_6200 = all_data_raw.loc[:,'Employee_benefits_6200_200_Special_education_1000_Instruction'].apply(pd.to_numeric, errors='coerce').fillna(0).reset_index(drop=True)\n",
    "\n",
    "benefits_instruction_1000_6200_reg_sped = benefits_instruction_1000_regular_6200 + benefits_instruction_1000_sped_6200"
   ]
  },
  {
   "cell_type": "code",
   "execution_count": 22,
   "metadata": {},
   "outputs": [],
   "source": [
    "# all salaries and benefits related to instruction for regular and sped\n",
    "\n",
    "salary_benefits_instruction_1000_6100_6200_reg_sped = salary_instruction_1000_6100_reg_sped + benefits_instruction_1000_6200_reg_sped"
   ]
  },
  {
   "cell_type": "code",
   "execution_count": 23,
   "metadata": {},
   "outputs": [],
   "source": [
    "# all salaries and benefits related to instruction for regular and sped AND classroom site fund expenses\n",
    "\n",
    "salary_benefits_instruction_1000_6100_6200_reg_sped_class_site = classroom_site_exp + salary_benefits_instruction_1000_6100_6200_reg_sped"
   ]
  },
  {
   "cell_type": "code",
   "execution_count": 24,
   "metadata": {},
   "outputs": [],
   "source": [
    "# instruction-related presonnel including purchased services and support services accts 2100 and 2200\n",
    "\n",
    "a = all_data_raw.loc[:, 'Salaries_6100_100_Regular_education_1000_Instruction'].apply(pd.to_numeric, errors='coerce').fillna(0).reset_index(drop=True)\n",
    "b = all_data_raw.loc[:, 'Salaries_6100_100_Regular_education_2000_Support_services_2100_Students'].apply(pd.to_numeric, errors='coerce').fillna(0).reset_index(drop=True)\n",
    "c = all_data_raw.loc[:, 'Salaries_6100_100_Regular_education_2000_Support_services_2200_Instruction'].apply(pd.to_numeric, errors='coerce').fillna(0).reset_index(drop=True)\n",
    "\n",
    "d = all_data_raw.loc[:, 'Salaries_6100_200_Special_education_1000_Instruction'].apply(pd.to_numeric, errors='coerce').fillna(0).reset_index(drop=True)\n",
    "e = all_data_raw.loc[:, 'Salaries_6100_200_Special_education_2000_Support_services_2100_Students'].apply(pd.to_numeric, errors='coerce').fillna(0).reset_index(drop=True)\n",
    "f = all_data_raw.loc[:, 'Salaries_6100_200_Special_education_2000_Support_services_2200_Instruction'].apply(pd.to_numeric, errors='coerce').fillna(0).reset_index(drop=True)\n",
    "\n",
    "\n",
    "g = all_data_raw.loc[:, 'Employee_benefits_6200_100_Regular_education_1000_Instruction'].apply(pd.to_numeric, errors='coerce').fillna(0).reset_index(drop=True)\n",
    "h = all_data_raw.loc[:, 'Employee_benefits_6200_100_Regular_education_2000_Support_services_2100_Students'].apply(pd.to_numeric, errors='coerce').fillna(0).reset_index(drop=True)\n",
    "i = all_data_raw.loc[:, 'Employee_benefits_6200_100_Regular_education_2000_Support_services_2200_Instruction'].apply(pd.to_numeric, errors='coerce').fillna(0).reset_index(drop=True)\n",
    "\n",
    "j = all_data_raw.loc[:, 'Employee_benefits_6200_200_Special_education_1000_Instruction'].apply(pd.to_numeric, errors='coerce').fillna(0).reset_index(drop=True)\n",
    "k = all_data_raw.loc[:, 'Employee_benefits_6200_200_Special_education_2000_Support_services_2100_Students'].apply(pd.to_numeric, errors='coerce').fillna(0).reset_index(drop=True)\n",
    "l = all_data_raw.loc[:, 'Employee_benefits_6200_200_Special_education_2000_Support_services_2200_Instruction'].apply(pd.to_numeric, errors='coerce').fillna(0).reset_index(drop=True)\n",
    "\n",
    "m = all_data_raw.loc[:, 'Purchased_services_6300_6400_6500_100_Regular_education_1000_Instruction'].apply(pd.to_numeric, errors='coerce').fillna(0).reset_index(drop=True)\n",
    "n = all_data_raw.loc[:, 'Purchased_services_6300_6400_6500_100_Regular_education_2000_Support_services_2100_Students'].apply(pd.to_numeric, errors='coerce').fillna(0).reset_index(drop=True)\n",
    "o = all_data_raw.loc[:, 'Purchased_services_6300_6400_6500_100_Regular_education_2000_Support_services_2200_Instruction'].apply(pd.to_numeric, errors='coerce').fillna(0).reset_index(drop=True)\n",
    "\n",
    "p = all_data_raw.loc[:, 'Purchased_services_6300_6400_6500_200_Special_education_1000_Instruction'].apply(pd.to_numeric, errors='coerce').fillna(0).reset_index(drop=True)\n",
    "q = all_data_raw.loc[:, 'Purchased_services_6300_6400_6500_200_Special_education_2000_Support_services_2100_Students'].apply(pd.to_numeric, errors='coerce').fillna(0).reset_index(drop=True)\n",
    "r = all_data_raw.loc[:, 'Purchased_services_6300_6400_6500_200_Special_education_2000_Support_services_2200_Instruction'].apply(pd.to_numeric, errors='coerce').fillna(0).reset_index(drop=True)\n",
    "\n",
    "s = classroom_site_exp\n",
    "\n",
    "total_instruction_related_personnel = a + b + c + d + e + f + g + h + i + j + k + l + m + n + o + p + q + r + s"
   ]
  },
  {
   "cell_type": "code",
   "execution_count": 25,
   "metadata": {},
   "outputs": [
    {
     "data": {
      "text/plain": [
       "0         283799.0\n",
       "1         373375.0\n",
       "2         626520.0\n",
       "3        1515935.0\n",
       "4         463963.0\n",
       "           ...    \n",
       "2693     1995240.0\n",
       "2694      343612.0\n",
       "2695    31945581.0\n",
       "2696      594480.0\n",
       "2697    40935008.0\n",
       "Length: 2698, dtype: float64"
      ]
     },
     "execution_count": 25,
     "metadata": {},
     "output_type": "execute_result"
    }
   ],
   "source": [
    "total_instruction_related_personnel"
   ]
  },
  {
   "cell_type": "markdown",
   "metadata": {},
   "source": [
    "#### Additional Data from Annual Financial Report"
   ]
  },
  {
   "cell_type": "code",
   "execution_count": 26,
   "metadata": {},
   "outputs": [
    {
     "data": {
      "text/plain": [
       "Index(['lea_year_key', 'lea_id_x', 'lea_name_x', 'ctds_id_str', 'year_x',\n",
       "       'asian', 'american_indian_alaskan', 'black', 'hispanic', 'white',\n",
       "       ...\n",
       "       '7', '8', '9', '10', '11', '12', 'Total_x', 'Female', 'Male',\n",
       "       'Total_y'],\n",
       "      dtype='object', length=1374)"
      ]
     },
     "execution_count": 26,
     "metadata": {},
     "output_type": "execute_result"
    }
   ],
   "source": [
    "all_data_raw.columns"
   ]
  },
  {
   "cell_type": "code",
   "execution_count": 27,
   "metadata": {},
   "outputs": [],
   "source": [
    "# ctds id\n",
    "ctds_id = all_data_raw.loc[:, 'ctds_id_str']\n",
    "\n",
    "year = all_data_raw.loc[:, 'Year']"
   ]
  },
  {
   "cell_type": "code",
   "execution_count": 28,
   "metadata": {},
   "outputs": [
    {
     "data": {
      "text/plain": [
       "0       x138761000\n",
       "1       x078793000\n",
       "2       x078542000\n",
       "3       x108734000\n",
       "4       x088704000\n",
       "           ...    \n",
       "2693    x088755000\n",
       "2694    x080313000\n",
       "2695    x140401000\n",
       "2696    x148758000\n",
       "2697    x140570000\n",
       "Name: ctds_id_str, Length: 2698, dtype: object"
      ]
     },
     "execution_count": 28,
     "metadata": {},
     "output_type": "execute_result"
    }
   ],
   "source": [
    "ctds_id"
   ]
  },
  {
   "cell_type": "code",
   "execution_count": 29,
   "metadata": {},
   "outputs": [],
   "source": [
    "# cash balance (only charters have this data)\n",
    "cash_balance = all_data_raw.loc[:, 'Cash'].apply(pd.to_numeric, errors='coerce').fillna(0).reset_index(drop=True)"
   ]
  },
  {
   "cell_type": "code",
   "execution_count": 30,
   "metadata": {},
   "outputs": [],
   "source": [
    "# pull out student, teacher, and avg salary data\n",
    "\n",
    "total_students = all_data_raw.loc[:,'Total_x'].apply(pd.to_numeric, errors='coerce').fillna(0).reset_index(drop=True)\n",
    "\n",
    "certified_teachers = all_data_raw.loc[:, 'Certified_FTE_Teachers'].apply(pd.to_numeric, errors='coerce').fillna(0).reset_index(drop=True)\n",
    "non_certified_teachers = all_data_raw.loc[:, 'NonCertified_FTE_Teachers'].apply(pd.to_numeric, errors='coerce').fillna(0).reset_index(drop=True)\n",
    "contract_teachers = all_data_raw.loc[:, 'Contract_FTE_Teachers'].apply(pd.to_numeric, errors='coerce').fillna(0).reset_index(drop=True)\n",
    "\n",
    "total_teachers = certified_teachers + non_certified_teachers + contract_teachers\n",
    "\n",
    "avg_teacher_salary = all_data_raw['Avg_Teacher_Salary']\n",
    "avg_teacher_salary_infl = all_data_raw['Avg_Teacher_Salary_inflation']"
   ]
  },
  {
   "cell_type": "code",
   "execution_count": 31,
   "metadata": {},
   "outputs": [],
   "source": [
    "# make FRL % column\n",
    "num = all_data_raw['freereduced']\n",
    "den = all_data_raw['all_students']\n",
    "pct_free_reduced = num / den\n",
    "\n",
    "# make % non-white colum\n",
    "num_1 = all_data_raw['white']\n",
    "den_1 = all_data_raw['total']\n",
    "pct_white = num_1 / den_1\n",
    "pct_non_white = (den_1 - num_1) / den_1\n",
    "\n",
    "# make % students with disabilities column\n",
    "num_2 = all_data_raw['swd']\n",
    "den_2 = all_data_raw['total']\n",
    "pct_swd = num_2 / den_2"
   ]
  },
  {
   "cell_type": "code",
   "execution_count": null,
   "metadata": {},
   "outputs": [],
   "source": []
  },
  {
   "cell_type": "code",
   "execution_count": 32,
   "metadata": {
    "code_folding": []
   },
   "outputs": [],
   "source": [
    "# initialize dataframe\n",
    "afr_data_df=pd.DataFrame()\n",
    "\n",
    "afr_data_df=afr_data_df.assign(ctds_id=ctds_id)\n",
    "afr_data_df=afr_data_df.assign(year_a=year)\n",
    "\n",
    "afr_data_df=afr_data_df.assign(m_and_o_rev=m_and_o_rev) \n",
    "afr_data_df=afr_data_df.assign(classroom_site_rev=classroom_site_rev)\n",
    "afr_data_df=afr_data_df.assign(instructional_improvement_rev=instructional_improvement_rev)\n",
    "afr_data_df=afr_data_df.assign(ell_rev=ell_rev)\n",
    "afr_data_df=afr_data_df.assign(compensatory_instruction_rev=compensatory_instruction_rev) \n",
    "afr_data_df=afr_data_df.assign(federal_and_state_proj_rev=federal_and_state_proj_rev)\n",
    "afr_data_df=afr_data_df.assign(total_rev_all_sources_charter=total_rev_all_sources_charter)\n",
    "afr_data_df=afr_data_df.assign(total_revenue=total_revenue)\n",
    "\n",
    "afr_data_df=afr_data_df.assign(m_and_o_exp=m_and_o_exp)\n",
    "afr_data_df=afr_data_df.assign(classroom_site_exp=classroom_site_exp)\n",
    "afr_data_df=afr_data_df.assign(instructional_improvement_exp=instructional_improvement_exp)\n",
    "afr_data_df=afr_data_df.assign(ell_exp=ell_exp)\n",
    "afr_data_df=afr_data_df.assign(compensatory_instruction_exp=compensatory_instruction_exp)\n",
    "afr_data_df=afr_data_df.assign(federal_and_state_proj_exp=federal_and_state_proj_exp)\n",
    "afr_data_df=afr_data_df.assign(total_expenses=total_expenses)\n",
    "\n",
    "afr_data_df=afr_data_df.assign(instruction_1000_regular=instruction_1000_regular)\n",
    "afr_data_df=afr_data_df.assign(instruction_1000_sped=instruction_1000_sped)\n",
    "afr_data_df=afr_data_df.assign(instruction_1000_reg_sped=instruction_1000_reg_sped)\n",
    "afr_data_df=afr_data_df.assign(support_serv_students_2100_regular=support_serv_students_2100_regular)\n",
    "afr_data_df=afr_data_df.assign(support_serv_students_2100_sped=support_serv_students_2100_sped)\n",
    "afr_data_df=afr_data_df.assign(support_serv_students_2100_reg_sped=support_serv_students_2100_reg_sped)\n",
    "afr_data_df=afr_data_df.assign(support_serv_instruction_2200_regular=support_serv_instruction_2200_regular)\n",
    "afr_data_df=afr_data_df.assign(support_serv_instruction_2200_sped=support_serv_instruction_2200_sped)\n",
    "afr_data_df=afr_data_df.assign(support_serv_instruction_2200_reg_sped=support_serv_instruction_2200_reg_sped)\n",
    "afr_data_df=afr_data_df.assign(support_serv_general_admin_2300_regular=support_serv_general_admin_2300_regular)\n",
    "afr_data_df=afr_data_df.assign(support_serv_general_admin_2300_sped=support_serv_general_admin_2300_sped)\n",
    "afr_data_df=afr_data_df.assign(support_serv_general_admin_2300_reg_sped=support_serv_general_admin_2300_reg_sped)\n",
    "afr_data_df=afr_data_df.assign(support_serv_school_admin_2400_regular=support_serv_school_admin_2400_regular)\n",
    "afr_data_df=afr_data_df.assign(support_serv_school_admin_2400_sped=support_serv_school_admin_2400_sped)\n",
    "afr_data_df=afr_data_df.assign(support_serv_school_admin_2400_reg_sped=support_serv_school_admin_2400_reg_sped)\n",
    "afr_data_df=afr_data_df.assign(support_serv_central_serv_2500_regular=support_serv_central_serv_2500_regular)\n",
    "afr_data_df=afr_data_df.assign(support_serv_central_serv_2500_sped=support_serv_central_serv_2500_sped)\n",
    "afr_data_df=afr_data_df.assign(support_serv_central_serv_2500_reg_sped=support_serv_central_serv_2500_reg_sped)\n",
    "afr_data_df=afr_data_df.assign(admin_expenses_all=admin_expenses_all)\n",
    "afr_data_df=afr_data_df.assign(o_and_m_plant_2600_regular=o_and_m_plant_2600_regular)\n",
    "afr_data_df=afr_data_df.assign(o_and_m_plant_2600_sped=o_and_m_plant_2600_sped)\n",
    "afr_data_df=afr_data_df.assign(o_and_m_plant_2600_reg_sped=o_and_m_plant_2600_reg_sped)\n",
    "afr_data_df=afr_data_df.assign(regular_exp_all=regular_exp_all)\n",
    "afr_data_df=afr_data_df.assign(sped_exp_all=sped_exp_all)\n",
    "\n",
    "afr_data_df=afr_data_df.assign(building_related_expenses=building_related_expenses)\n",
    "\n",
    "afr_data_df=afr_data_df.assign(salaries_6100_exp=salaries_6100_exp)\n",
    "afr_data_df=afr_data_df.assign(benefits_6200_exp=benefits_6200_exp)\n",
    "afr_data_df=afr_data_df.assign(all_salaries_benefits_6100_6200=all_salaries_benefits_6100_6200)\n",
    "afr_data_df=afr_data_df.assign(purch_serv_6300_6400_6500_exp=purch_serv_6300_6400_6500_exp)\n",
    "afr_data_df=afr_data_df.assign(supplies_6600_exp=supplies_6600_exp)\n",
    "afr_data_df=afr_data_df.assign(other_6800_exp=other_6800_exp)\n",
    "\n",
    "afr_data_df=afr_data_df.assign(cash_balance=cash_balance)\n",
    "\n",
    "afr_data_df=afr_data_df.assign(salary_instruction_1000_6100_reg_sped=salary_instruction_1000_6100_reg_sped)\n",
    "afr_data_df=afr_data_df.assign(benefits_instruction_1000_6200_reg_sped=benefits_instruction_1000_6200_reg_sped)\n",
    "afr_data_df=afr_data_df.assign(salary_benefits_instruction_1000_6100_6200_reg_sped=salary_benefits_instruction_1000_6100_6200_reg_sped)\n",
    "afr_data_df=afr_data_df.assign(salary_benefits_instruction_1000_6100_6200_reg_sped_class_site=salary_benefits_instruction_1000_6100_6200_reg_sped_class_site)\n",
    "\n",
    "afr_data_df=afr_data_df.assign(total_instruction_related_personnel=total_instruction_related_personnel)\n",
    "\n",
    "afr_data_df=afr_data_df.assign(total_students=total_students)\n",
    "afr_data_df=afr_data_df.assign(certified_teachers=certified_teachers)\n",
    "afr_data_df=afr_data_df.assign(non_certified_teachers=non_certified_teachers)\n",
    "afr_data_df=afr_data_df.assign(contract_teachers=contract_teachers)\n",
    "afr_data_df=afr_data_df.assign(total_teachers=total_teachers)\n",
    "afr_data_df=afr_data_df.assign(avg_teacher_salary=avg_teacher_salary)\n",
    "afr_data_df=afr_data_df.assign(avg_teacher_salary_infl=avg_teacher_salary_infl)"
   ]
  },
  {
   "cell_type": "markdown",
   "metadata": {},
   "source": [
    "### Compute Relevant Ratios"
   ]
  },
  {
   "cell_type": "code",
   "execution_count": 33,
   "metadata": {
    "code_folding": []
   },
   "outputs": [],
   "source": [
    "# total expenses to revenue ratio\n",
    "exp_to_rev_ratio = total_expenses.divide(total_revenue)\n",
    "\n",
    "\n",
    "# instructional salaries and benefits related ratios\n",
    "instruction_1000_per_total_exp = instruction_1000_reg_sped.divide(total_expenses)\n",
    "regular_salary_instruction_1000_per_total_exp = instruction_1000_regular.divide(total_expenses)\n",
    "salaries_6100_per_total_exp = salaries_6100_exp.divide(total_expenses)\n",
    "salary_instruction_1000_6100_per_total_exp = salary_instruction_1000_6100_reg_sped.divide(total_expenses)\n",
    "\n",
    "benefits_6200_per_total_exp = benefits_6200_exp.divide(total_expenses)\n",
    "benefits_1000_6200_per_total_exp = benefits_instruction_1000_6200_reg_sped.divide(total_expenses)\n",
    "\n",
    "salary_benefits_instruction_1000_6100_6200_per_total_exp = salary_benefits_instruction_1000_6100_6200_reg_sped.divide(total_expenses)\n",
    "salary_benefits_instruction_1000_6100_6200_class_site_per_total_exp = salary_benefits_instruction_1000_6100_6200_reg_sped_class_site.divide(total_expenses)\n",
    "total_instruction_related_personnel_per_total_exp = total_instruction_related_personnel.divide(total_expenses)\n",
    "\n",
    "benefits_to_salary_ratio_6100_6200 = benefits_6200_exp.divide(salaries_6100_exp)\n",
    "benefits_to_salary_ratio_1000_6100_6200 = benefits_instruction_1000_6200_reg_sped.divide(salary_instruction_1000_6100_reg_sped)\n",
    "\n",
    "\n",
    "# administrative expense ratios\n",
    "support_serv_general_admin_2300_reg_sped_per_total_exp = support_serv_general_admin_2300_reg_sped.divide(total_expenses)\n",
    "support_serv_school_admin_2400_reg_sped_per_total_exp = support_serv_school_admin_2400_reg_sped.divide(total_expenses)\n",
    "support_serv_central_serv_2500_reg_sped_per_total_exp = support_serv_central_serv_2500_reg_sped.divide(total_expenses)\n",
    "admin_expenses_all_per_total_exp = admin_expenses_all.divide(total_expenses)\n",
    "instructional_exp_to_admin_exp_ratio = instruction_1000_reg_sped.divide(admin_expenses_all)\n",
    "\n",
    "\n",
    "# non-instruction expense ratios\n",
    "o_and_m_plant_2600_per_total_exp = o_and_m_plant_2600_reg_sped.divide(total_expenses)\n",
    "purch_serv_6300_6400_6500_per_total_exp = purch_serv_6300_6400_6500_exp.divide(total_expenses)\n",
    "supplies_6600_per_total_exp = supplies_6600_exp.divide(total_expenses)\n",
    "other_6800_per_total_exp = other_6800_exp.divide(total_expenses)\n",
    "building_related_expenses_per_total_exp = building_related_expenses.divide(total_expenses)\n",
    "\n",
    "\n",
    "# sped-related and ell-related ratios\n",
    "instruction_1000_regular_to_sped_ratio = instruction_1000_regular.divide(instruction_1000_sped)\n",
    "regular_to_sped_instructional_related_ratio = regular_exp_all.divide(sped_exp_all)\n",
    "sped_exp_all_per_total_exp = sped_exp_all.divide(total_expenses)\n",
    "ell_exp_per_total_exp = ell_exp.divide(total_expenses)\n",
    "\n",
    "# cash ratio\n",
    "days_cash = cash_balance.divide(total_expenses) * 365\n",
    "\n",
    "\n",
    "# student-teacher ratios\n",
    "students_per_teacher = total_students.divide(total_teachers)\n",
    "teachers_per_student = total_teachers.divide(total_students)\n",
    "\n",
    "# teacher salary proxy\n",
    "instruction_1000_reg_sped_per_teacher = instruction_1000_reg_sped.divide(total_teachers)\n",
    "\n",
    "# instructional expenses per student - DISTRICTS\n",
    "total_instruction_related_personnel_per_student = total_instruction_related_personnel.divide(total_students)\n",
    "\n",
    "# instructional expenses per student - CHARTERS\n",
    "salary_benefits_instruction_1000_6100_6200_class_site_per_student = salary_benefits_instruction_1000_6100_6200_reg_sped_class_site.divide(total_students)\n"
   ]
  },
  {
   "cell_type": "markdown",
   "metadata": {},
   "source": [
    "### Make DataFrame with Relevant Ratios"
   ]
  },
  {
   "cell_type": "code",
   "execution_count": 34,
   "metadata": {
    "code_folding": []
   },
   "outputs": [],
   "source": [
    "# initialize dataframe\n",
    "ratios_df=pd.DataFrame()\n",
    "\n",
    "# ctds id and year\n",
    "ratios_df=ratios_df.assign(ctds_id=ctds_id)\n",
    "ratios_df=ratios_df.assign(year_b=year)\n",
    "\n",
    "# percentage of FRL population\n",
    "ratios_df=ratios_df.assign(pct_free_reduced=pct_free_reduced)\n",
    "\n",
    "# percentage 'white' population\n",
    "ratios_df=ratios_df.assign(pct_white=pct_white)\n",
    "\n",
    "# percentage of 'non_white' population\n",
    "ratios_df=ratios_df.assign(pct_non_white=pct_non_white)\n",
    "\n",
    "# percentage of 'sped' population\n",
    "ratios_df=ratios_df.assign(pct_swd=pct_swd)\n",
    "\n",
    "# total expenses to revenue ratio\n",
    "ratios_df=ratios_df.assign(exp_to_rev_ratio=exp_to_rev_ratio) \n",
    "\n",
    "# instructional salaries and benefits related ratios\n",
    "ratios_df=ratios_df.assign(instruction_1000_per_total_exp=instruction_1000_per_total_exp) \n",
    "ratios_df=ratios_df.assign(regular_salary_instruction_1000_per_total_exp=regular_salary_instruction_1000_per_total_exp)\n",
    "ratios_df=ratios_df.assign(salaries_6100_per_total_exp=salaries_6100_per_total_exp) \n",
    "ratios_df=ratios_df.assign(salary_instruction_1000_6100_per_total_exp=salary_instruction_1000_6100_per_total_exp)\n",
    "\n",
    "ratios_df=ratios_df.assign(benefits_6200_per_total_exp=benefits_6200_per_total_exp)\n",
    "ratios_df=ratios_df.assign(benefits_1000_6200_per_total_exp=benefits_1000_6200_per_total_exp)\n",
    "\n",
    "ratios_df=ratios_df.assign(salary_benefits_instruction_1000_6100_6200_per_total_exp=salary_benefits_instruction_1000_6100_6200_per_total_exp) \n",
    "ratios_df=ratios_df.assign(salary_benefits_instruction_1000_6100_6200_class_site_per_total_exp=salary_benefits_instruction_1000_6100_6200_class_site_per_total_exp) \n",
    "ratios_df=ratios_df.assign(total_instruction_related_personnel_per_total_exp=total_instruction_related_personnel_per_total_exp)\n",
    "\n",
    "ratios_df=ratios_df.assign(benefits_to_salary_ratio_6100_6200=benefits_to_salary_ratio_6100_6200)\n",
    "ratios_df=ratios_df.assign(benefits_to_salary_ratio_1000_6100_6200=benefits_to_salary_ratio_1000_6100_6200)\n",
    "\n",
    "\n",
    "# administrative expense ratios\n",
    "ratios_df=ratios_df.assign(support_serv_general_admin_2300_reg_sped_per_total_exp=support_serv_general_admin_2300_reg_sped_per_total_exp)\n",
    "ratios_df=ratios_df.assign(support_serv_school_admin_2400_reg_sped_per_total_exp=support_serv_school_admin_2400_reg_sped_per_total_exp) \n",
    "ratios_df=ratios_df.assign(support_serv_central_serv_2500_reg_sped_per_total_exp=support_serv_central_serv_2500_reg_sped_per_total_exp)\n",
    "ratios_df=ratios_df.assign(admin_expenses_all_per_total_exp=admin_expenses_all_per_total_exp)\n",
    "ratios_df=ratios_df.assign(instructional_exp_to_admin_exp_ratio=instructional_exp_to_admin_exp_ratio)\n",
    "\n",
    "\n",
    "# non-instruction expense ratios\n",
    "ratios_df=ratios_df.assign(o_and_m_plant_2600_per_total_exp=o_and_m_plant_2600_per_total_exp)\n",
    "ratios_df=ratios_df.assign(purch_serv_6300_6400_6500_per_total_exp=purch_serv_6300_6400_6500_per_total_exp)\n",
    "ratios_df=ratios_df.assign(supplies_6600_per_total_exp=supplies_6600_per_total_exp)\n",
    "ratios_df=ratios_df.assign(other_6800_per_total_exp=other_6800_per_total_exp)\n",
    "ratios_df=ratios_df.assign(building_related_expenses_per_total_exp=building_related_expenses_per_total_exp)\n",
    "\n",
    "\n",
    "# sped-related and ell-related ratios\n",
    "ratios_df=ratios_df.assign(instruction_1000_regular_to_sped_ratio=instruction_1000_regular_to_sped_ratio)\n",
    "ratios_df=ratios_df.assign(regular_to_sped_instructional_related_ratio=regular_to_sped_instructional_related_ratio)\n",
    "ratios_df=ratios_df.assign(sped_exp_all_per_total_exp=sped_exp_all_per_total_exp)\n",
    "ratios_df=ratios_df.assign(ell_exp_per_total_exp=ell_exp_per_total_exp)\n",
    "\n",
    "\n",
    "# cash ratio\n",
    "ratios_df=ratios_df.assign(days_cash=days_cash)\n",
    "\n",
    "\n",
    "# student-teacher ratios\n",
    "ratios_df=ratios_df.assign(students_per_teacher=students_per_teacher) \n",
    "ratios_df=ratios_df.assign(teachers_per_student=teachers_per_student)\n",
    "\n",
    "\n",
    "# teacher salary proxy\n",
    "ratios_df=ratios_df.assign(instruction_1000_reg_sped_per_teacher=instruction_1000_reg_sped_per_teacher)\n",
    "\n",
    "\n",
    "# instructional expenses per student - DISTRICTS\n",
    "ratios_df=ratios_df.assign(total_instruction_related_personnel_per_student = total_instruction_related_personnel_per_student)\n",
    "# instructional expenses per student - CHARTERS\n",
    "ratios_df=ratios_df.assign(salary_benefits_instruction_1000_6100_6200_class_site_per_student = salary_benefits_instruction_1000_6100_6200_class_site_per_student)"
   ]
  },
  {
   "cell_type": "markdown",
   "metadata": {},
   "source": [
    "### Export Data to CSV"
   ]
  },
  {
   "cell_type": "code",
   "execution_count": 35,
   "metadata": {},
   "outputs": [],
   "source": [
    "# ensure column names are not same between df's\n",
    "afr_data_df = afr_data_df.rename(columns={'ctds_id': 'ctds_id_x'})\n",
    "ratios_df = ratios_df.rename(columns={'ctds_id': 'ctds_id__xx'})"
   ]
  },
  {
   "cell_type": "code",
   "execution_count": 36,
   "metadata": {},
   "outputs": [],
   "source": [
    "# export data\n",
    "export_path = './jupyter_data/'\n",
    "afr_data_df.to_csv(export_path+'afr_data_df.csv', index_label=False)\n",
    "ratios_df.to_csv(export_path+'ratios_df.csv', index_label=False)"
   ]
  }
 ],
 "metadata": {
  "kernelspec": {
   "display_name": "Python 3",
   "language": "python",
   "name": "python3"
  },
  "language_info": {
   "codemirror_mode": {
    "name": "ipython",
    "version": 3
   },
   "file_extension": ".py",
   "mimetype": "text/x-python",
   "name": "python",
   "nbconvert_exporter": "python",
   "pygments_lexer": "ipython3",
   "version": "3.9.1"
  }
 },
 "nbformat": 4,
 "nbformat_minor": 4
}
